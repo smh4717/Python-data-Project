{
 "cells": [
  {
   "cell_type": "code",
   "execution_count": null,
   "metadata": {},
   "outputs": [],
   "source": [
    "import pandas as pd\n",
    "import numpy as np\n",
    "\n",
    "covid = pd.read_excel('Korea_COVID19_20210226.xlsx')"
   ]
  },
  {
   "cell_type": "code",
   "execution_count": 111,
   "metadata": {},
   "outputs": [
    {
     "data": {
      "text/html": [
       "<div>\n",
       "<style scoped>\n",
       "    .dataframe tbody tr th:only-of-type {\n",
       "        vertical-align: middle;\n",
       "    }\n",
       "\n",
       "    .dataframe tbody tr th {\n",
       "        vertical-align: top;\n",
       "    }\n",
       "\n",
       "    .dataframe thead th {\n",
       "        text-align: right;\n",
       "    }\n",
       "</style>\n",
       "<table border=\"1\" class=\"dataframe\">\n",
       "  <thead>\n",
       "    <tr style=\"text-align: right;\">\n",
       "      <th></th>\n",
       "      <th>Date</th>\n",
       "      <th>AccuConfirm</th>\n",
       "      <th>AccuRecover</th>\n",
       "      <th>NewConfirm</th>\n",
       "      <th>AccuValidConf</th>\n",
       "      <th>WeekMean</th>\n",
       "    </tr>\n",
       "  </thead>\n",
       "  <tbody>\n",
       "    <tr>\n",
       "      <th>0</th>\n",
       "      <td>2020-02-15</td>\n",
       "      <td>29</td>\n",
       "      <td>9</td>\n",
       "      <td>NaN</td>\n",
       "      <td>20</td>\n",
       "      <td>NaN</td>\n",
       "    </tr>\n",
       "    <tr>\n",
       "      <th>1</th>\n",
       "      <td>2020-02-16</td>\n",
       "      <td>30</td>\n",
       "      <td>10</td>\n",
       "      <td>1.0</td>\n",
       "      <td>20</td>\n",
       "      <td>NaN</td>\n",
       "    </tr>\n",
       "    <tr>\n",
       "      <th>2</th>\n",
       "      <td>2020-02-17</td>\n",
       "      <td>31</td>\n",
       "      <td>12</td>\n",
       "      <td>1.0</td>\n",
       "      <td>19</td>\n",
       "      <td>NaN</td>\n",
       "    </tr>\n",
       "    <tr>\n",
       "      <th>3</th>\n",
       "      <td>2020-02-18</td>\n",
       "      <td>51</td>\n",
       "      <td>16</td>\n",
       "      <td>20.0</td>\n",
       "      <td>35</td>\n",
       "      <td>NaN</td>\n",
       "    </tr>\n",
       "    <tr>\n",
       "      <th>4</th>\n",
       "      <td>2020-02-19</td>\n",
       "      <td>104</td>\n",
       "      <td>16</td>\n",
       "      <td>53.0</td>\n",
       "      <td>88</td>\n",
       "      <td>NaN</td>\n",
       "    </tr>\n",
       "    <tr>\n",
       "      <th>...</th>\n",
       "      <td>...</td>\n",
       "      <td>...</td>\n",
       "      <td>...</td>\n",
       "      <td>...</td>\n",
       "      <td>...</td>\n",
       "      <td>...</td>\n",
       "    </tr>\n",
       "    <tr>\n",
       "      <th>373</th>\n",
       "      <td>2021-02-22</td>\n",
       "      <td>87680</td>\n",
       "      <td>78394</td>\n",
       "      <td>356.0</td>\n",
       "      <td>9286</td>\n",
       "      <td>479.285714</td>\n",
       "    </tr>\n",
       "    <tr>\n",
       "      <th>374</th>\n",
       "      <td>2021-02-23</td>\n",
       "      <td>88120</td>\n",
       "      <td>79050</td>\n",
       "      <td>440.0</td>\n",
       "      <td>9070</td>\n",
       "      <td>453.428571</td>\n",
       "    </tr>\n",
       "    <tr>\n",
       "      <th>375</th>\n",
       "      <td>2021-02-24</td>\n",
       "      <td>88516</td>\n",
       "      <td>79487</td>\n",
       "      <td>396.0</td>\n",
       "      <td>9029</td>\n",
       "      <td>421.285714</td>\n",
       "    </tr>\n",
       "    <tr>\n",
       "      <th>376</th>\n",
       "      <td>2021-02-25</td>\n",
       "      <td>88922</td>\n",
       "      <td>79880</td>\n",
       "      <td>406.0</td>\n",
       "      <td>9042</td>\n",
       "      <td>399.142857</td>\n",
       "    </tr>\n",
       "    <tr>\n",
       "      <th>377</th>\n",
       "      <td>2021-02-26</td>\n",
       "      <td>89321</td>\n",
       "      <td>80333</td>\n",
       "      <td>399.0</td>\n",
       "      <td>8988</td>\n",
       "      <td>392.142857</td>\n",
       "    </tr>\n",
       "  </tbody>\n",
       "</table>\n",
       "<p>378 rows × 6 columns</p>\n",
       "</div>"
      ],
      "text/plain": [
       "          Date  AccuConfirm  AccuRecover  NewConfirm  AccuValidConf  \\\n",
       "0   2020-02-15           29            9         NaN             20   \n",
       "1   2020-02-16           30           10         1.0             20   \n",
       "2   2020-02-17           31           12         1.0             19   \n",
       "3   2020-02-18           51           16        20.0             35   \n",
       "4   2020-02-19          104           16        53.0             88   \n",
       "..         ...          ...          ...         ...            ...   \n",
       "373 2021-02-22        87680        78394       356.0           9286   \n",
       "374 2021-02-23        88120        79050       440.0           9070   \n",
       "375 2021-02-24        88516        79487       396.0           9029   \n",
       "376 2021-02-25        88922        79880       406.0           9042   \n",
       "377 2021-02-26        89321        80333       399.0           8988   \n",
       "\n",
       "       WeekMean  \n",
       "0           NaN  \n",
       "1           NaN  \n",
       "2           NaN  \n",
       "3           NaN  \n",
       "4           NaN  \n",
       "..          ...  \n",
       "373  479.285714  \n",
       "374  453.428571  \n",
       "375  421.285714  \n",
       "376  399.142857  \n",
       "377  392.142857  \n",
       "\n",
       "[378 rows x 6 columns]"
      ]
     },
     "execution_count": 111,
     "metadata": {},
     "output_type": "execute_result"
    }
   ],
   "source": [
    "covid"
   ]
  },
  {
   "cell_type": "code",
   "execution_count": 47,
   "metadata": {},
   "outputs": [],
   "source": [
    "import seaborn as sns\n",
    "import matplotlib.pyplot as plt"
   ]
  },
  {
   "cell_type": "code",
   "execution_count": 46,
   "metadata": {},
   "outputs": [
    {
     "data": {
      "text/plain": [
       "<BarContainer object of 377 artists>"
      ]
     },
     "execution_count": 46,
     "metadata": {},
     "output_type": "execute_result"
    },
    {
     "data": {
      "image/png": "[encoded data removed]",
      "text/plain": [
       "<Figure size 432x288 with 1 Axes>"
      ]
     },
     "metadata": {
      "needs_background": "light"
     },
     "output_type": "display_data"
    }
   ],
   "source": [
    "# 일일 확진자 막대 그래프\n",
    "plt.bar(covid.NewConfirm.index, covid.NewConfirm)"
   ]
  },
  {
   "cell_type": "code",
   "execution_count": 45,
   "metadata": {},
   "outputs": [
    {
     "data": {
      "text/plain": [
       "[<matplotlib.lines.Line2D at 0x22b078ec3c8>]"
      ]
     },
     "execution_count": 45,
     "metadata": {},
     "output_type": "execute_result"
    },
    {
     "data": {
      "image/png": "[encoded data removed]",
      "text/plain": [
       "<Figure size 432x288 with 1 Axes>"
      ]
     },
     "metadata": {
      "needs_background": "light"
     },
     "output_type": "display_data"
    }
   ],
   "source": [
    "# 일일 확진자 선 그래프\n",
    "plt.plot(covid.NewConfirm.index, covid.NewConfirm)"
   ]
  },
  {
   "cell_type": "code",
   "execution_count": 44,
   "metadata": {},
   "outputs": [
    {
     "data": {
      "text/plain": [
       "[<matplotlib.lines.Line2D at 0x22b07885d88>]"
      ]
     },
     "execution_count": 44,
     "metadata": {},
     "output_type": "execute_result"
    },
    {
     "data": {
      "image/png": "[encoded data removed]",
      "text/plain": [
       "<Figure size 432x288 with 1 Axes>"
      ]
     },
     "metadata": {
      "needs_background": "light"
     },
     "output_type": "display_data"
    }
   ],
   "source": [
    "# 7일 평균 확진자 (그래프가 선명해짐)\n",
    "plt.plot(covid.WeekMean.index, covid.WeekMean)"
   ]
  },
  {
   "cell_type": "code",
   "execution_count": 43,
   "metadata": {},
   "outputs": [
    {
     "data": {
      "image/png": "[encoded data removed]",
      "text/plain": [
       "<Figure size 432x288 with 1 Axes>"
      ]
     },
     "metadata": {
      "needs_background": "light"
     },
     "output_type": "display_data"
    }
   ],
   "source": [
    "# 누적확진자, 누적격리해제, 실질확진자 선 그래프\n",
    "plt.plot(covid.AccuConfirm.index, covid.AccuConfirm, color='red')\n",
    "plt.plot(covid.AccuRecover.index, covid.AccuRecover, color='green')\n",
    "plt.plot(covid.AccuValidConf.index, covid.AccuValidConf, color='blue')\n",
    "plt.show()"
   ]
  },
  {
   "cell_type": "code",
   "execution_count": 112,
   "metadata": {},
   "outputs": [],
   "source": [
    "sun = []\n",
    "mon = []\n",
    "tue = []\n",
    "wed = []\n",
    "thu = []\n",
    "fri = []\n",
    "sat = []"
   ]
  },
  {
   "cell_type": "code",
   "execution_count": 113,
   "metadata": {},
   "outputs": [],
   "source": [
    "# 일주일 별로 확진자 수 차이\n",
    "\n",
    "for i in covid.Date.index:\n",
    "    if (i % 7 == 0):\n",
    "        sat.append(covid.NewConfirm[i])\n",
    "    if (i % 7 == 1):\n",
    "        sun.append(covid.NewConfirm[i])\n",
    "    if (i % 7 == 2):\n",
    "        mon.append(covid.NewConfirm[i])\n",
    "    if (i % 7 == 3):\n",
    "        tue.append(covid.NewConfirm[i])\n",
    "    if (i % 7 == 4):\n",
    "        wed.append(covid.NewConfirm[i])\n",
    "    if (i % 7 == 5):\n",
    "        thu.append(covid.NewConfirm[i])\n",
    "    if (i % 7 == 6):\n",
    "        fri.append(covid.NewConfirm[i])"
   ]
  },
  {
   "cell_type": "code",
   "execution_count": 115,
   "metadata": {},
   "outputs": [],
   "source": [
    "# 데이터프레임화\n",
    "df = pd.DataFrame({\n",
    "    'sun': sun,\n",
    "    'mon': mon,\n",
    "    'tue': tue,\n",
    "    'wed': wed,\n",
    "    'thu': thu,\n",
    "    'fri': fri,\n",
    "    'sat': sat\n",
    "})"
   ]
  },
  {
   "cell_type": "code",
   "execution_count": 121,
   "metadata": {},
   "outputs": [
    {
     "data": {
      "text/html": [
       "<div>\n",
       "<style scoped>\n",
       "    .dataframe tbody tr th:only-of-type {\n",
       "        vertical-align: middle;\n",
       "    }\n",
       "\n",
       "    .dataframe tbody tr th {\n",
       "        vertical-align: top;\n",
       "    }\n",
       "\n",
       "    .dataframe thead th {\n",
       "        text-align: right;\n",
       "    }\n",
       "</style>\n",
       "<table border=\"1\" class=\"dataframe\">\n",
       "  <thead>\n",
       "    <tr style=\"text-align: right;\">\n",
       "      <th></th>\n",
       "      <th>sun</th>\n",
       "      <th>mon</th>\n",
       "      <th>tue</th>\n",
       "      <th>wed</th>\n",
       "      <th>thu</th>\n",
       "      <th>fri</th>\n",
       "      <th>sat</th>\n",
       "    </tr>\n",
       "  </thead>\n",
       "  <tbody>\n",
       "    <tr>\n",
       "      <th>0</th>\n",
       "      <td>1.0</td>\n",
       "      <td>1.0</td>\n",
       "      <td>20.0</td>\n",
       "      <td>53.0</td>\n",
       "      <td>100.0</td>\n",
       "      <td>229.0</td>\n",
       "      <td>0.0</td>\n",
       "    </tr>\n",
       "    <tr>\n",
       "      <th>1</th>\n",
       "      <td>231.0</td>\n",
       "      <td>144.0</td>\n",
       "      <td>284.0</td>\n",
       "      <td>505.0</td>\n",
       "      <td>571.0</td>\n",
       "      <td>813.0</td>\n",
       "      <td>169.0</td>\n",
       "    </tr>\n",
       "    <tr>\n",
       "      <th>2</th>\n",
       "      <td>476.0</td>\n",
       "      <td>600.0</td>\n",
       "      <td>516.0</td>\n",
       "      <td>438.0</td>\n",
       "      <td>518.0</td>\n",
       "      <td>483.0</td>\n",
       "      <td>586.0</td>\n",
       "    </tr>\n",
       "    <tr>\n",
       "      <th>3</th>\n",
       "      <td>248.0</td>\n",
       "      <td>131.0</td>\n",
       "      <td>242.0</td>\n",
       "      <td>114.0</td>\n",
       "      <td>110.0</td>\n",
       "      <td>107.0</td>\n",
       "      <td>367.0</td>\n",
       "    </tr>\n",
       "    <tr>\n",
       "      <th>4</th>\n",
       "      <td>74.0</td>\n",
       "      <td>84.0</td>\n",
       "      <td>93.0</td>\n",
       "      <td>152.0</td>\n",
       "      <td>87.0</td>\n",
       "      <td>147.0</td>\n",
       "      <td>76.0</td>\n",
       "    </tr>\n",
       "  </tbody>\n",
       "</table>\n",
       "</div>"
      ],
      "text/plain": [
       "     sun    mon    tue    wed    thu    fri    sat\n",
       "0    1.0    1.0   20.0   53.0  100.0  229.0    0.0\n",
       "1  231.0  144.0  284.0  505.0  571.0  813.0  169.0\n",
       "2  476.0  600.0  516.0  438.0  518.0  483.0  586.0\n",
       "3  248.0  131.0  242.0  114.0  110.0  107.0  367.0\n",
       "4   74.0   84.0   93.0  152.0   87.0  147.0   76.0"
      ]
     },
     "execution_count": 121,
     "metadata": {},
     "output_type": "execute_result"
    }
   ],
   "source": [
    "df = df.fillna(0)\n",
    "df.head()"
   ]
  },
  {
   "cell_type": "code",
   "execution_count": 147,
   "metadata": {},
   "outputs": [],
   "source": [
    "df2 = (\n",
    "    df\n",
    "    .stack()\n",
    "    .reset_index()\n",
    "    .rename(columns={\n",
    "        'level_0':'num',\n",
    "        'level_1':'day',\n",
    "        0: 'NewConfirm'\n",
    "    })\n",
    ")"
   ]
  },
  {
   "cell_type": "code",
   "execution_count": 148,
   "metadata": {},
   "outputs": [
    {
     "data": {
      "text/plain": [
       "<seaborn.axisgrid.FacetGrid at 0x22b0976a908>"
      ]
     },
     "execution_count": 148,
     "metadata": {},
     "output_type": "execute_result"
    },
    {
     "data": {
      "image/png": "[encoded data removed]",
      "text/plain": [
       "<Figure size 360x360 with 1 Axes>"
      ]
     },
     "metadata": {
      "needs_background": "light"
     },
     "output_type": "display_data"
    }
   ],
   "source": [
    "# 요일별 확진자 수를 catplot으로나타내기\n",
    "# 수요일에 확진자 수가 많은 것으로 보임\n",
    "sns.catplot(x='day', y='NewConfirm', data=df2, kind='box')"
   ]
  },
  {
   "cell_type": "code",
   "execution_count": null,
   "metadata": {},
   "outputs": [],
   "source": []
  },
  {
   "cell_type": "code",
   "execution_count": null,
   "metadata": {},
   "outputs": [],
   "source": []
  },
  {
   "cell_type": "code",
   "execution_count": null,
   "metadata": {},
   "outputs": [],
   "source": []
  },
  {
   "cell_type": "code",
   "execution_count": null,
   "metadata": {},
   "outputs": [],
   "source": []
  }
 ],
 "metadata": {
  "kernelspec": {
   "display_name": "Python 3",
   "language": "python",
   "name": "python3"
  },
  "language_info": {
   "codemirror_mode": {
    "name": "ipython",
    "version": 3
   },
   "file_extension": ".py",
   "mimetype": "text/x-python",
   "name": "python",
   "nbconvert_exporter": "python",
   "pygments_lexer": "ipython3",
   "version": "3.7.6"
  }
 },
 "nbformat": 4,
 "nbformat_minor": 4
}
